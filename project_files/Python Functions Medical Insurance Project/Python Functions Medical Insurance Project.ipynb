{
 "cells": [
  {
   "cell_type": "markdown",
   "id": "7ac921d1",
   "metadata": {},
   "source": [
    "# Python Functions: Medical Insurance Project"
   ]
  },
  {
   "cell_type": "code",
   "execution_count": 2,
   "metadata": {},
   "outputs": [
    {
     "name": "stdout",
     "output_type": "stream",
     "text": [
      "The estimated insurance cost for Maria is 5469.0 dollars.\n",
      "The estimated insurance cost for Omar is 28336.0 dollars.\n",
      "The estimated insurance cost for Mine is 4482 dollars.\n"
     ]
    }
   ],
   "source": [
    "# Create calculate_insurance_cost() function below: \n",
    "def calculate_insurance_cost(name,age,sex,bmi,num_of_children,smoker):\n",
    "  estimated_cost = 250*age - 128*sex + 370*bmi + 425*num_of_children + 24000*smoker - 12500\n",
    "  message = print(f\"The estimated insurance cost for {name} is {estimated_cost} dollars.\")\n",
    "  return estimated_cost,message\n",
    "\n",
    "# Estimate Maria's insurance cost\n",
    "maria_insurance_cost = calculate_insurance_cost(\"Maria\",28,0,26.2,3,0)\n",
    "\n",
    "# Estimate Omar's insurance cost \n",
    "omar_insurance_cost = calculate_insurance_cost(\"Omar\",35,1,22.2,0,1)\n",
    "\n",
    "# Calculate myself's\n",
    "me_insurance_cost = calculate_insurance_cost(\"mine\",27,1,28,0,0)"
   ]
  }
 ],
 "metadata": {
  "kernelspec": {
   "display_name": "Python 3 (ipykernel)",
   "language": "python",
   "name": "python3"
  },
  "language_info": {
   "codemirror_mode": {
    "name": "ipython",
    "version": 3
   },
   "file_extension": ".py",
   "mimetype": "text/x-python",
   "name": "python",
   "nbconvert_exporter": "python",
   "pygments_lexer": "ipython3",
   "version": "3.11.0"
  }
 },
 "nbformat": 4,
 "nbformat_minor": 5
}
